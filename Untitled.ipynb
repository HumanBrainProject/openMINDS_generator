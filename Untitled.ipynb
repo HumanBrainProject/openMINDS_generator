{
 "cells": [
  {
   "cell_type": "code",
   "execution_count": 1,
   "id": "czech-upset",
   "metadata": {},
   "outputs": [],
   "source": [
    "import openMINDS.compiler\n",
    "helper = openMINDS.compiler.Helper(version=\"dev\")\n",
    "mycollection = helper.create_collection()"
   ]
  },
  {
   "cell_type": "code",
   "execution_count": 2,
   "id": "outdoor-representation",
   "metadata": {},
   "outputs": [
    {
     "name": "stdout",
     "output_type": "stream",
     "text": [
      "Required properties:\n",
      "name\n",
      "\n",
      "Documentation of @id\n",
      "INSTRUCTION:\n",
      "Not defined yet.\n",
      "\n",
      "DESCRIPTION:\n",
      "Metadata node identifier.\n",
      "\n",
      "Documentation of @type\n",
      "INSTRUCTION:\n",
      "Not defined yet.\n",
      "\n",
      "DESCRIPTION:\n",
      "Not defined yet.\n",
      "\n",
      "Documentation of definition\n",
      "INSTRUCTION:\n",
      "Enter one sentence for defining this term.\n",
      "\n",
      "DESCRIPTION:\n",
      "Not defined yet.\n",
      "\n",
      "Documentation of description\n",
      "INSTRUCTION:\n",
      "Enter a short text describing this term.\n",
      "\n",
      "DESCRIPTION:\n",
      "Not defined yet.\n",
      "\n",
      "Documentation of name\n",
      "INSTRUCTION:\n",
      "Controlled term originating from a defined terminology.\n",
      "\n",
      "DESCRIPTION:\n",
      "Not defined yet.\n",
      "\n",
      "Documentation of ontologyIdentifier\n",
      "INSTRUCTION:\n",
      "Enter the internationalized resource identifier (IRI) pointing to the related ontological term.\n",
      "\n",
      "DESCRIPTION:\n",
      "Not defined yet.\n",
      "\n"
     ]
    }
   ],
   "source": [
    "mycollection.help_controlledTerms_ageCategory()"
   ]
  },
  {
   "cell_type": "code",
   "execution_count": 3,
   "id": "canadian-memorial",
   "metadata": {},
   "outputs": [
    {
     "name": "stdout",
     "output_type": "stream",
     "text": [
      "Required properties:\n",
      "name\n",
      "\n",
      "Documentation of @id\n",
      "INSTRUCTION:\n",
      "Not defined yet.\n",
      "\n",
      "DESCRIPTION:\n",
      "Metadata node identifier.\n",
      "\n",
      "Documentation of @type\n",
      "INSTRUCTION:\n",
      "Not defined yet.\n",
      "\n",
      "DESCRIPTION:\n",
      "Not defined yet.\n",
      "\n",
      "Documentation of hasParent\n",
      "INSTRUCTION:\n",
      "Add another anatomical entity representing the anatomical parent structure of this anatomical entity.\n",
      "\n",
      "DESCRIPTION:\n",
      "Not defined yet.\n",
      "\n",
      "Documentation of name\n",
      "INSTRUCTION:\n",
      "Enter a descriptive name for this anatomical entity based on anatomical location or characteristics.\n",
      "\n",
      "DESCRIPTION:\n",
      "Not defined yet.\n",
      "\n",
      "Documentation of ontologyIdentifier\n",
      "INSTRUCTION:\n",
      "Enter the internationalized resource identifier (IRI) pointing to the ontological term matching this anatomical entity.\n",
      "\n",
      "DESCRIPTION:\n",
      "Not defined yet.\n",
      "\n",
      "Documentation of otherAnatomicalRelation\n",
      "INSTRUCTION:\n",
      "Add one or several relations of this anatomical entity to other anatomical entities that are used elsewhere to describe (roughly) the same anatomical location.\n",
      "\n",
      "DESCRIPTION:\n",
      "Not defined yet.\n",
      "\n"
     ]
    }
   ],
   "source": [
    "mycollection.help_SANDS_anatomicalEntity()"
   ]
  },
  {
   "cell_type": "code",
   "execution_count": null,
   "id": "senior-failing",
   "metadata": {},
   "outputs": [],
   "source": []
  }
 ],
 "metadata": {
  "kernelspec": {
   "display_name": "Python 3",
   "language": "python",
   "name": "python3"
  },
  "language_info": {
   "codemirror_mode": {
    "name": "ipython",
    "version": 3
   },
   "file_extension": ".py",
   "mimetype": "text/x-python",
   "name": "python",
   "nbconvert_exporter": "python",
   "pygments_lexer": "ipython3",
   "version": "3.8.7"
  }
 },
 "nbformat": 4,
 "nbformat_minor": 5
}
